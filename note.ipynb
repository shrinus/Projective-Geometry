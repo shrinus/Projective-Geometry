{
 "cells": [
  {
   "cell_type": "code",
   "execution_count": 1,
   "metadata": {},
   "outputs": [],
   "source": [
    "import numpy as np\n",
    "from scipy.integrate import quad\n",
    "from numpy.polynomial import Polynomial"
   ]
  },
  {
   "cell_type": "code",
   "execution_count": 2,
   "metadata": {},
   "outputs": [],
   "source": [
    "\n",
    "n = 11\n",
    "a = -3\n",
    "b = 3\n"
   ]
  },
  {
   "cell_type": "code",
   "execution_count": 3,
   "metadata": {},
   "outputs": [],
   "source": [
    "def f(x):\n",
    "    return np.exp(-x*x)\n"
   ]
  },
  {
   "cell_type": "code",
   "execution_count": 4,
   "metadata": {},
   "outputs": [],
   "source": [
    "K = np.array([[(((b ** (i + j + 1)) - (a ** (i + j + 1)))/(i + j + 1)) for i in range(n)] for j in range(n)])\n"
   ]
  },
  {
   "cell_type": "code",
   "execution_count": 5,
   "metadata": {},
   "outputs": [],
   "source": [
    "I = np.array([quad(lambda x: f(x) * x ** i, a, b)[0] for i in range(n)])\n"
   ]
  },
  {
   "cell_type": "code",
   "execution_count": 6,
   "metadata": {},
   "outputs": [
    {
     "data": {
      "text/latex": [
       "$x \\mapsto \\text{0.9910710040287763}\\color{LightGray}{ + \\text{0.0}\\,x} - \\text{0.9121511249107619}\\,x^{2}\\color{LightGray}{ + \\text{0.0}\\,x^{3}} + \\text{0.3533078594251453}\\,x^{4}\\color{LightGray}{ + \\text{0.0}\\,x^{5}} - \\text{0.06864072857794135}\\,x^{6}\\color{LightGray}{ + \\text{0.0}\\,x^{7}} + \\text{0.0065184693000363}\\,x^{8}\\color{LightGray}{ + \\text{0.0}\\,x^{9}} - \\text{0.00023962430100394564}\\,x^{10}$"
      ],
      "text/plain": [
       "Polynomial([ 9.91071004e-01,  0.00000000e+00, -9.12151125e-01,  0.00000000e+00,\n",
       "        3.53307859e-01,  0.00000000e+00, -6.86407286e-02,  0.00000000e+00,\n",
       "        6.51846930e-03,  0.00000000e+00, -2.39624301e-04], domain=[-1,  1], window=[-1,  1])"
      ]
     },
     "execution_count": 6,
     "metadata": {},
     "output_type": "execute_result"
    }
   ],
   "source": [
    "c = np.matmul(np.linalg.inv(K), I)\n",
    "Polynomial(c)"
   ]
  }
 ],
 "metadata": {
  "kernelspec": {
   "display_name": "Python 3.9.12 ('base')",
   "language": "python",
   "name": "python3"
  },
  "language_info": {
   "codemirror_mode": {
    "name": "ipython",
    "version": 3
   },
   "file_extension": ".py",
   "mimetype": "text/x-python",
   "name": "python",
   "nbconvert_exporter": "python",
   "pygments_lexer": "ipython3",
   "version": "3.9.12"
  },
  "orig_nbformat": 4,
  "vscode": {
   "interpreter": {
    "hash": "5a1cd8f5ceb6abd9a115f870560f5bc8854bc3760d02f2df1b84cb3f6daf07b1"
   }
  }
 },
 "nbformat": 4,
 "nbformat_minor": 2
}
